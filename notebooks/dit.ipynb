{
 "cells": [
  {
   "cell_type": "code",
   "execution_count": 1,
   "id": "af281cbe",
   "metadata": {},
   "outputs": [
    {
     "name": "stdout",
     "output_type": "stream",
     "text": [
      "Collecting tiktoken\n",
      "  Downloading tiktoken-0.11.0-cp313-cp313-manylinux_2_17_x86_64.manylinux2014_x86_64.whl.metadata (6.7 kB)\n",
      "Collecting regex>=2022.1.18 (from tiktoken)\n",
      "  Downloading regex-2025.9.1-cp313-cp313-manylinux2014_x86_64.manylinux_2_17_x86_64.manylinux_2_28_x86_64.whl.metadata (40 kB)\n",
      "Requirement already satisfied: requests>=2.26.0 in /home/harisshragav/miniconda3/lib/python3.13/site-packages (from tiktoken) (2.32.4)\n",
      "Requirement already satisfied: charset_normalizer<4,>=2 in /home/harisshragav/miniconda3/lib/python3.13/site-packages (from requests>=2.26.0->tiktoken) (3.3.2)\n",
      "Requirement already satisfied: idna<4,>=2.5 in /home/harisshragav/miniconda3/lib/python3.13/site-packages (from requests>=2.26.0->tiktoken) (3.7)\n",
      "Requirement already satisfied: urllib3<3,>=1.21.1 in /home/harisshragav/miniconda3/lib/python3.13/site-packages (from requests>=2.26.0->tiktoken) (2.5.0)\n",
      "Requirement already satisfied: certifi>=2017.4.17 in /home/harisshragav/miniconda3/lib/python3.13/site-packages (from requests>=2.26.0->tiktoken) (2025.7.14)\n",
      "Downloading tiktoken-0.11.0-cp313-cp313-manylinux_2_17_x86_64.manylinux2014_x86_64.whl (1.2 MB)\n",
      "\u001b[2K   \u001b[38;2;114;156;31m━━━━━━━━━━━━━━━━━━━━━━━━━━━━━━━━━━━━━━━━\u001b[0m \u001b[32m1.2/1.2 MB\u001b[0m \u001b[31m6.5 MB/s\u001b[0m eta \u001b[36m0:00:00\u001b[0m[31m?\u001b[0m eta \u001b[36m-:--:--\u001b[0m\n",
      "\u001b[?25hDownloading regex-2025.9.1-cp313-cp313-manylinux2014_x86_64.manylinux_2_17_x86_64.manylinux_2_28_x86_64.whl (802 kB)\n",
      "\u001b[2K   \u001b[38;2;114;156;31m━━━━━━━━━━━━━━━━━━━━━━━━━━━━━━━━━━━━━━━━\u001b[0m \u001b[32m802.0/802.0 kB\u001b[0m \u001b[31m16.3 MB/s\u001b[0m eta \u001b[36m0:00:00\u001b[0m\n",
      "\u001b[?25hInstalling collected packages: regex, tiktoken\n",
      "\u001b[2K   \u001b[38;2;114;156;31m━━━━━━━━━━━━━━━━━━━━━━━━━━━━━━━━━━━━━━━━\u001b[0m \u001b[32m2/2\u001b[0m [tiktoken]\n",
      "\u001b[1A\u001b[2KSuccessfully installed regex-2025.9.1 tiktoken-0.11.0\n"
     ]
    }
   ],
   "source": [
    "! pip install tiktoken"
   ]
  },
  {
   "cell_type": "code",
   "execution_count": 2,
   "id": "b037ce8c",
   "metadata": {},
   "outputs": [],
   "source": [
    "import tiktoken\n",
    "\n",
    "tokenizer = tiktoken.encoding_for_model(\"gpt-4o\")\n"
   ]
  },
  {
   "cell_type": "code",
   "execution_count": 3,
   "id": "a10b1447",
   "metadata": {},
   "outputs": [],
   "source": [
    "import torch\n",
    "import torch.nn as nn\n",
    "import torch.nn.functional as F"
   ]
  },
  {
   "cell_type": "code",
   "execution_count": 4,
   "id": "1ded7bca",
   "metadata": {},
   "outputs": [
    {
     "name": "stdout",
     "output_type": "stream",
     "text": [
      "AdaptiveLayerNorm tests passed.\n"
     ]
    }
   ],
   "source": [
    "class AdaptiveLayerNorm(nn.Module):\n",
    "    def __init__(self, embed_dim):\n",
    "        super(AdaptiveLayerNorm, self).__init__()\n",
    "        self.embed_dim = embed_dim\n",
    "        self.layer_norm = nn.LayerNorm(embed_dim, elementwise_affine=False)\n",
    "\n",
    "    def forward(self, x, cond, scale_transform: nn.Parameter, shift_transform: nn.Parameter):\n",
    "        B, T, D = x.shape\n",
    "        x = self.layer_norm(x)\n",
    "        x = x * (1 + scale_transform.unsqueeze(1)) + shift_transform.unsqueeze(1)\n",
    "\n",
    "        return x\n",
    "\n",
    "embed_dim = 512\n",
    "B, T = 4, 8\n",
    "x_test = torch.randn(B, T, embed_dim)\n",
    "cond_test = torch.randn(B, embed_dim)\n",
    "scale = torch.ones(B, embed_dim)\n",
    "shift = torch.zeros(B, embed_dim)\n",
    "\n",
    "# Instance of AdaptiveLayerNorm\n",
    "adaln = AdaptiveLayerNorm(embed_dim)\n",
    "\n",
    "# Test with scale_transform and shift_transform\n",
    "out2 = adaln(x_test, cond_test, scale_transform=scale, shift_transform=shift)\n",
    "assert out2.shape == (B, T, embed_dim), \"Output shape mismatch (scale + shift)\"\n",
    "\n",
    "print(\"AdaptiveLayerNorm tests passed.\")"
   ]
  },
  {
   "cell_type": "code",
   "execution_count": 5,
   "id": "b0837422",
   "metadata": {},
   "outputs": [],
   "source": [
    "class DitBlock(nn.Module):\n",
    "\n",
    "    def __init__(self, embed_dim, num_heads):\n",
    "        super(DitBlock, self).__init__()\n",
    "\n",
    "        self. adaln_modulation = nn.Sequential(\n",
    "            nn.SiLU(),\n",
    "            nn.Linear(embed_dim, embed_dim * 6)\n",
    "        )\n",
    "\n",
    "        self.mha_adaln = AdaptiveLayerNorm(embed_dim)\n",
    "        self.mlp_adaln = AdaptiveLayerNorm(embed_dim)\n",
    "\n",
    "        self.mha = nn.MultiheadAttention(embed_dim, num_heads, batch_first=True)\n",
    "\n",
    "        self.mlp = nn.Sequential(\n",
    "            nn.Linear(embed_dim, embed_dim * 4),\n",
    "            nn.ReLU(),\n",
    "            nn.Linear(embed_dim * 4, embed_dim)\n",
    "        )\n",
    "\n",
    "    def forward(self, x, cond):\n",
    "        self.shift_mha, self.scale_mha, self.gate_mha, self.shift_mlp, self.scale_mlp, self.gate_mlp = self.adaln_modulation(cond).chunk(6, dim=1)\n",
    "\n",
    "        norm_x = self.mha_adaln(x, cond, self.scale_mha, self.shift_mha)\n",
    "        attn_out = self.mha(norm_x, norm_x, norm_x, need_weights=False)[0]\n",
    "        x = x + self.gate_mha.unsqueeze(1) * attn_out\n",
    "\n",
    "        norm_x = self.mlp_adaln(x, cond, self.scale_mlp, self.shift_mlp)\n",
    "        mlp_out = self.mlp(norm_x)\n",
    "        x = x + self.gate_mlp.unsqueeze(1) * mlp_out\n",
    "        return x\n",
    "\n",
    "# Test DiT block:\n",
    "test_block = DitBlock(embed_dim=512, num_heads=8)\n",
    "test_input = torch.randn(32, 64, 512)\n",
    "test_cond = torch.randn(32, 512)\n",
    "output = test_block(test_input, test_cond)"
   ]
  },
  {
   "cell_type": "code",
   "execution_count": 6,
   "id": "b40a4d00",
   "metadata": {},
   "outputs": [],
   "source": [
    "import math\n",
    "\n",
    "class TimestepEmbedding(nn.Module):\n",
    "    def __init__(self, hidden_size, frequency_embedding_size=256):\n",
    "        super(TimestepEmbedding, self).__init__()\n",
    "\n",
    "        self.mlp = nn.Sequential(\n",
    "            nn.Linear(frequency_embedding_size, hidden_size, bias=True),\n",
    "            nn.SiLU(),\n",
    "            nn.Linear(hidden_size, hidden_size, bias=True),\n",
    "        )\n",
    "        self.frequency_embedding_size = frequency_embedding_size\n",
    "\n",
    "    @staticmethod\n",
    "    def timestep_embedding(t, dim, max_period=10000):\n",
    "        half = dim // 2\n",
    "        freqs = torch.exp(\n",
    "            -math.log(max_period) * torch.arange(half, dtype=torch.float32, device=t.device) / half\n",
    "        )\n",
    "        args = t[:, None].float() * freqs[None]\n",
    "        embedding = torch.cat([torch.cos(args), torch.sin(args)], dim=-1)\n",
    "        if dim % 2:\n",
    "            embedding = torch.cat([embedding, torch.zeros_like(embedding[:, :1])], dim=-1)\n",
    "        return embedding\n",
    "\n",
    "    def forward(self, t):\n",
    "        embedding = self.timestep_embedding(t, self.frequency_embedding_size)\n",
    "        return self.mlp(embedding)"
   ]
  },
  {
   "cell_type": "code",
   "execution_count": 16,
   "id": "af809551",
   "metadata": {},
   "outputs": [
    {
     "name": "stdout",
     "output_type": "stream",
     "text": [
      "torch.Size([4, 8, 512]) torch.Size([4, 512])\n"
     ]
    }
   ],
   "source": [
    "class DiffusionTransformer(nn.Module):\n",
    "    def __init__(self, vocab_size, embed_dim, num_heads, num_layers, max_seq_len):\n",
    "        super(DiffusionTransformer, self).__init__()\n",
    "        self.token_embedding = nn.Embedding(vocab_size, embed_dim)\n",
    "        self.position_embedding = nn.Embedding(max_seq_len, embed_dim)\n",
    "        self.time_embedding = TimestepEmbedding(embed_dim)\n",
    "        self.layers = nn.ModuleList([DitBlock(embed_dim, num_heads) for _ in range(num_layers)])\n",
    "        \n",
    "        self.final_norm = nn.LayerNorm(embed_dim, elementwise_affine=False)\n",
    "        self.final_adaln_modulation = nn.Sequential(\n",
    "            nn.SiLU(),\n",
    "            nn.Linear(embed_dim, 2 * embed_dim, bias=True)\n",
    "        )\n",
    "\n",
    "        self.lm_head = nn.Sequential(\n",
    "            nn.Linear(embed_dim, vocab_size),\n",
    "            nn.Softmax(dim=-1)\n",
    "        )\n",
    "\n",
    "    def forward(self, x, t, cond = None):\n",
    "        B, T = x.shape\n",
    "        positions = torch.arange(0, T, device=x.device).unsqueeze(0).expand(B, T)\n",
    "        x = self.token_embedding(x) + self.position_embedding(positions)\n",
    "        t = self.time_embedding(t)\n",
    "        print(x.shape, t.shape)\n",
    "        if not cond:\n",
    "            cond = torch.zeros_like(t)\n",
    "\n",
    "        cond = t + cond\n",
    "\n",
    "        for layer in self.layers:\n",
    "            x = layer(x, cond)\n",
    "\n",
    "        shift, scale = self.final_adaln_modulation(cond).chunk(2, dim=-1)\n",
    "        x = x * (1 + scale.unsqueeze(1)) + shift.unsqueeze(1)\n",
    "        logits = self.lm_head(x)\n",
    "\n",
    "        return logits\n",
    "\n",
    "# Test for DDiffusionTransformer\n",
    "vocab_size = 10000\n",
    "embed_dim = 512\n",
    "num_heads = 8\n",
    "num_layers = 6\n",
    "max_seq_len = 128\n",
    "\n",
    "model = DiffusionTransformer(vocab_size, embed_dim, num_heads, num_layers, max_seq_len)\n",
    "\n",
    "test_x = torch.randint(0, vocab_size, (B, T))\n",
    "test_t = torch.randint(0, 1000, (B,))\n",
    "\n",
    "logits = model(test_x, test_t)"
   ]
  },
  {
   "cell_type": "code",
   "execution_count": 15,
   "id": "ecf4f060",
   "metadata": {},
   "outputs": [
    {
     "data": {
      "text/plain": [
       "torch.Size([4, 8, 10000])"
      ]
     },
     "execution_count": 15,
     "metadata": {},
     "output_type": "execute_result"
    }
   ],
   "source": [
    "logits.shape"
   ]
  },
  {
   "cell_type": "code",
   "execution_count": null,
   "id": "7750d181",
   "metadata": {},
   "outputs": [],
   "source": []
  }
 ],
 "metadata": {
  "kernelspec": {
   "display_name": "torch",
   "language": "python",
   "name": "python3"
  },
  "language_info": {
   "codemirror_mode": {
    "name": "ipython",
    "version": 3
   },
   "file_extension": ".py",
   "mimetype": "text/x-python",
   "name": "python",
   "nbconvert_exporter": "python",
   "pygments_lexer": "ipython3",
   "version": "3.13.5"
  }
 },
 "nbformat": 4,
 "nbformat_minor": 5
}
